{
 "cells": [
  {
   "cell_type": "markdown",
   "metadata": {},
   "source": [
    "# Projet MonteCarlo \n",
    "## Application des méthodes MonteCarlo sur le jeu de Puissance 4\n",
    "\n",
    "**Auteurs:** Jihed BHAR - Yassine BEN ABDALLAH - Nadia BEN YOUSSEF\n"
   ]
  },
  {
   "cell_type": "markdown",
   "metadata": {},
   "source": [
    "----"
   ]
  },
  {
   "cell_type": "markdown",
   "metadata": {},
   "source": [
    "### Importation des librairies"
   ]
  },
  {
   "cell_type": "code",
   "execution_count": 1,
   "metadata": {},
   "outputs": [],
   "source": [
    "import numpy as np\n",
    "import math\n",
    "import random\n",
    "from copy import deepcopy\n",
    "import time\n",
    "import matplotlib.pyplot as plt\n",
    "from tqdm import tqdm\n",
    "import copy"
   ]
  },
  {
   "cell_type": "markdown",
   "metadata": {},
   "source": [
    "### Implémentation de la classe Connect4Game"
   ]
  },
  {
   "cell_type": "code",
   "execution_count": 2,
   "metadata": {},
   "outputs": [],
   "source": [
    "class Connect4Game:\n",
    "    def __init__(self):\n",
    "        self.rows = 6\n",
    "        self.columns = 7\n",
    "        self.board = np.zeros((self.rows, self.columns), dtype=int)\n",
    "        self.current_player = 1\n",
    "        self.game_over = False\n",
    "        self.winner = None\n",
    "\n",
    "    def get_valid_moves(self):\n",
    "        return [col for col in range(self.columns) if self.board[0][col] == 0]\n",
    "\n",
    "    def make_move(self, column):\n",
    "        if column not in self.get_valid_moves():\n",
    "            return False\n",
    "        for row in range(self.rows-1, -1, -1):\n",
    "            if self.board[row][column] == 0:\n",
    "                self.board[row][column] = self.current_player\n",
    "                break\n",
    "        if self.check_win(self.current_player):\n",
    "            self.game_over = True\n",
    "            self.winner = self.current_player\n",
    "        elif not self.get_valid_moves():\n",
    "            self.game_over = True\n",
    "        self.current_player = 3 - self.current_player\n",
    "        return True\n",
    "\n",
    "    def check_win(self, player):\n",
    "        for row in range(self.rows):\n",
    "            for col in range(self.columns - 3):\n",
    "                if all(self.board[row][col+i] == player for i in range(4)):\n",
    "                    return True\n",
    "        for row in range(self.rows - 3):\n",
    "            for col in range(self.columns):\n",
    "                if all(self.board[row+i][col] == player for i in range(4)):\n",
    "                    return True\n",
    "        for row in range(self.rows - 3):\n",
    "            for col in range(self.columns - 3):\n",
    "                if all(self.board[row+i][col+i] == player for i in range(4)):\n",
    "                    return True\n",
    "                if all(self.board[row+3-i][col+i] == player for i in range(4)):\n",
    "                    return True\n",
    "        return False\n",
    "\n",
    "    def print_board(self):\n",
    "        print('-' * (2 * self.columns + 1))\n",
    "        for row in range(self.rows):\n",
    "            print('|', end='')\n",
    "            for col in range(self.columns):\n",
    "                print(' ' if self.board[row][col] == 0 else 'R' if self.board[row][col] == 1 else 'Y', end='|')\n",
    "            print()\n",
    "        print('-' * (2 * self.columns + 1))\n",
    "        print(' ', end='')\n",
    "        for col in range(self.columns):\n",
    "            print(f'{col}', end=' ')\n",
    "        print()"
   ]
  },
  {
   "cell_type": "markdown",
   "metadata": {},
   "source": [
    "### Implémentation de la classe Node"
   ]
  },
  {
   "cell_type": "code",
   "execution_count": 3,
   "metadata": {},
   "outputs": [],
   "source": [
    "class Node:\n",
    "    def __init__(self, game_state, parent=None, move=None):\n",
    "        self.game_state = deepcopy(game_state)\n",
    "        self.parent = parent\n",
    "        self.move = move\n",
    "        self.children = []\n",
    "        self.wins = 0\n",
    "        self.visits = 0\n",
    "        self.sum_of_squares = 0\n",
    "        self.untried_moves = game_state.get_valid_moves()\n",
    "\n",
    "    def select_child(self):\n",
    "        c = 1.41\n",
    "        best_score = -float('inf')\n",
    "        best_child = None\n",
    "        for child in self.children:\n",
    "            exploitation = child.wins / child.visits if child.visits > 0 else 0\n",
    "            exploration = math.sqrt(2 * math.log(self.visits) / child.visits) if child.visits > 0 else float('inf')\n",
    "            score = exploitation + c * exploration\n",
    "            if score > best_score:\n",
    "                best_score = score\n",
    "                best_child = child\n",
    "        return best_child\n",
    "\n",
    "    def add_child(self, move, game_state):\n",
    "        child = Node(game_state, self, move)\n",
    "        self.untried_moves.remove(move)\n",
    "        self.children.append(child)\n",
    "        return child\n",
    "\n",
    "    def update(self, result):\n",
    "        self.visits += 1\n",
    "        self.wins += result\n",
    "        self.sum_of_squares += result * result"
   ]
  },
  {
   "cell_type": "markdown",
   "metadata": {},
   "source": [
    "### Implémentation de l'algorithme Monte Carlo Tree Search (MCTS) standard"
   ]
  },
  {
   "cell_type": "code",
   "execution_count": 4,
   "metadata": {},
   "outputs": [],
   "source": [
    "class MCTS:\n",
    "    def __init__(self,game, iterations=1000):  # Réduit à 1000 pour test\n",
    "        self.iterations = iterations\n",
    "        self.game = game\n",
    "\n",
    "    def get_best_move(self):\n",
    "        root = Node(self.game)\n",
    "        for _ in range(self.iterations):\n",
    "            node = root\n",
    "            state = deepcopy(self.game)\n",
    "            while node.untried_moves == [] and node.children != []:\n",
    "                node = node.select_child()\n",
    "                state.make_move(node.move)\n",
    "            if node.untried_moves:\n",
    "                move = random.choice(node.untried_moves)\n",
    "                state.make_move(move)\n",
    "                node = node.add_child(move, state)\n",
    "            while not state.game_over and state.get_valid_moves():\n",
    "                state.make_move(random.choice(state.get_valid_moves()))  # Simulation aléatoire\n",
    "            while node:\n",
    "                result = 0.5 if state.winner is None else 1.0 if state.winner == self.game.current_player else 0.0\n",
    "                node.update(result)\n",
    "                node = node.parent\n",
    "        best_child = max(root.children, key=lambda c: c.visits, default=None)\n",
    "        return best_child.move if best_child else random.choice(self.game.get_valid_moves())"
   ]
  },
  {
   "cell_type": "markdown",
   "metadata": {},
   "source": [
    "### Implémentation de l'algorithme NRPA"
   ]
  },
  {
   "cell_type": "code",
   "execution_count": 5,
   "metadata": {},
   "outputs": [],
   "source": [
    "class NRPA:\n",
    "    def __init__(self, game, level=2, iterations=100):\n",
    "        self.game = game\n",
    "        self.level = level          # Niveau de récursion\n",
    "        self.iterations = iterations # Nombre d'itérations par niveau\n",
    "        self.policy = {}           \n",
    "        \n",
    "    def get_key(self, board):\n",
    "        \"\"\"Convertit le plateau en une chaîne de caractères unique pour l'utiliser comme clé\"\"\"\n",
    "        return str(board.flatten().tolist())\n",
    "    \n",
    "    def adapt_policy(self, trajectory, reward):\n",
    "        \"\"\"Adapte la politique en fonction de la trajectoire et de la récompense obtenue\"\"\"\n",
    "        alpha = 0.5  # Taux d'apprentissage\n",
    "        \n",
    "        for state, action in trajectory:\n",
    "            state_key = self.get_key(state)\n",
    "            if state_key not in self.policy:\n",
    "                valid_moves = [col for col in range(self.game.columns) if state[0][col] == 0]\n",
    "                self.policy[state_key] = {move: 0.0 for move in valid_moves}\n",
    "            \n",
    "            policy_values = self.policy[state_key]\n",
    "            exp_values = {a: math.exp(w) for a, w in policy_values.items()}\n",
    "            total_exp = sum(exp_values.values())\n",
    "            probs = {a: v / total_exp if total_exp > 0 else 1.0 / len(exp_values) \n",
    "                    for a, v in exp_values.items()}\n",
    "            old_weight = self.policy[state_key].get(action, 0.0)\n",
    "            self.policy[state_key][action] = old_weight + alpha * reward * (1.0 - probs[action])\n",
    "            \n",
    "            for a in self.policy[state_key]:\n",
    "                if a != action:\n",
    "                    old_weight = self.policy[state_key][a]\n",
    "                    self.policy[state_key][a] = old_weight - alpha * reward * probs[a]\n",
    "    \n",
    "    def select_action(self, state):\n",
    "        \"\"\"Sélectionne une action en fonction de la politique actuelle\"\"\"\n",
    "        state_key = self.get_key(state)\n",
    "        \n",
    "        if state_key not in self.policy:\n",
    "            valid_moves = [col for col in range(self.game.columns) if state[0][col] == 0]\n",
    "            self.policy[state_key] = {move: 0.0 for move in valid_moves}\n",
    "        \n",
    "        policy_values = self.policy[state_key]\n",
    "        if not policy_values:  # Si aucune action n'est disponible\n",
    "            return None\n",
    "        \n",
    "        exp_values = {a: math.exp(w) for a, w in policy_values.items()}\n",
    "        total_exp = sum(exp_values.values())\n",
    "        \n",
    "        if total_exp == 0:\n",
    "            return random.choice(list(policy_values.keys()))\n",
    "        \n",
    "        probs = {a: v / total_exp for a, v in exp_values.items()}\n",
    "        \n",
    "        actions = list(probs.keys())\n",
    "        probabilities = [probs[a] for a in actions]\n",
    "        return np.random.choice(actions, p=probabilities)\n",
    "    \n",
    "    def playout(self, state, player):\n",
    "        \"\"\"Effectue un playout à partir de l'état donné\"\"\"\n",
    "        trajectory = []\n",
    "        game_copy = copy.deepcopy(self.game)\n",
    "        game_copy.board = copy.deepcopy(state)\n",
    "        game_copy.current_player = player\n",
    "        \n",
    "        while not game_copy.game_over:\n",
    "            valid_moves = game_copy.get_valid_moves()\n",
    "            if not valid_moves:\n",
    "                break\n",
    "            \n",
    "            state_key = self.get_key(game_copy.board)\n",
    "            if state_key in self.policy and any(move in self.policy[state_key] for move in valid_moves):\n",
    "                action = self.select_action(game_copy.board)\n",
    "                if action is None or action not in valid_moves:\n",
    "                    action = random.choice(valid_moves)\n",
    "            else:\n",
    "                action = random.choice(valid_moves)\n",
    "            trajectory.append((copy.deepcopy(game_copy.board), action))\n",
    "            game_copy.make_move(action)\n",
    "        \n",
    "        if game_copy.winner == player:\n",
    "            return trajectory, 1.0  # Victoire\n",
    "        elif game_copy.winner == 3 - player:\n",
    "            return trajectory, 0.0  # Défaite\n",
    "        else:\n",
    "            return trajectory, 0.5  # Match nul\n",
    "    \n",
    "    def nested_rollout(self, state, player, level):\n",
    "        \"\"\"Effectue un rollout imbriqué de niveau donné\"\"\"\n",
    "        if level == 0:\n",
    "            trajectory, reward = self.playout(state, player)\n",
    "            return reward, trajectory\n",
    "        \n",
    "        best_score = -1\n",
    "        best_trajectory = None\n",
    "        \n",
    "        for _ in range(self.iterations):\n",
    "            old_policy = copy.deepcopy(self.policy)\n",
    "            # Effectuer un rollout et obtenir une trajectoire\n",
    "            score, trajectory = self.nested_rollout(state, player, level - 1)\n",
    "            if score > best_score:\n",
    "                best_score = score\n",
    "                best_trajectory = trajectory\n",
    "            if trajectory:\n",
    "                self.adapt_policy(trajectory, score)\n",
    "        \n",
    "        # Restaurer l'ancienne politique\n",
    "        self.policy = old_policy\n",
    "        \n",
    "        return best_score, best_trajectory\n",
    "    \n",
    "    def get_best_move(self):\n",
    "        \"\"\"Retourne le meilleur mouvement selon NRPA\"\"\"\n",
    "        best_score = -1\n",
    "        best_move = None\n",
    "        score, trajectory = self.nested_rollout(self.game.board, self.game.current_player, self.level)\n",
    "        \n",
    "        if trajectory and len(trajectory) > 0:\n",
    "            _, best_move = trajectory[0]\n",
    "        else:\n",
    "            valid_moves = self.game.get_valid_moves()\n",
    "            if valid_moves:\n",
    "                best_move = random.choice(valid_moves)\n",
    "        \n",
    "        return best_move"
   ]
  },
  {
   "cell_type": "code",
   "execution_count": 6,
   "metadata": {},
   "outputs": [],
   "source": [
    "def test_algorithms(num_games=100, mcts_iterations=1000, nrpa_level=2, nrpa_iterations=100):\n",
    "    \"\"\"\n",
    "    Teste les performances de MCTS vs NRPA sur plusieurs parties de Puissance 4.\n",
    "    \n",
    "    Args:\n",
    "        num_games: Nombre de parties à jouer\n",
    "        mcts_iterations: Nombre d'itérations pour MCTS\n",
    "        nrpa_level: Niveau de récursion pour NRPA\n",
    "        nrpa_iterations: Nombre d'itérations par niveau pour NRPA\n",
    "        \n",
    "    Returns:\n",
    "        Statistiques des résultats\n",
    "    \"\"\"\n",
    "    results = {'MCTS_win': 0, 'NRPA_win': 0, 'Draw': 0}\n",
    "    moves_count = []\n",
    "    game_times = {'MCTS': [], 'NRPA': []}\n",
    "    \n",
    "    for game_id in tqdm(range(num_games), desc=\"Parties jouées\"):\n",
    "        game = Connect4Game()\n",
    "        mcts_first = game_id % 2 == 0\n",
    "        mcts_agent = MCTS(deepcopy(game) ,mcts_iterations)\n",
    "        nrpa_agent = NRPA(deepcopy(game), nrpa_level, nrpa_iterations)\n",
    "        move_count = 0\n",
    "        \n",
    "        while not game.game_over:\n",
    "            current_player_num = game.current_player\n",
    "            if (current_player_num == 1 and mcts_first) or (current_player_num == 2 and not mcts_first):\n",
    "                agent = mcts_agent\n",
    "                player_name = \"MCTS\"\n",
    "            else:\n",
    "                agent = nrpa_agent\n",
    "                player_name = \"NRPA\"\n",
    "            agent.game = deepcopy(game)\n",
    "            start_time = time.time()\n",
    "            move = agent.get_best_move()\n",
    "            end_time = time.time()\n",
    "            game_times[player_name].append(end_time - start_time)\n",
    "            game.make_move(move)\n",
    "            move_count += 1\n",
    "        \n",
    "        moves_count.append(move_count)\n",
    "        game.print_board()\n",
    "        if game.winner is None:\n",
    "            results['Draw'] += 1\n",
    "        elif (game.winner == 1 and mcts_first) or (game.winner == 2 and not mcts_first):\n",
    "            results['MCTS_win'] += 1\n",
    "        else:\n",
    "            results['NRPA_win'] += 1\n",
    "    \n",
    "    avg_moves = sum(moves_count) / len(moves_count)\n",
    "    avg_time_mcts = sum(game_times['MCTS']) / len(game_times['MCTS']) if game_times['MCTS'] else 0\n",
    "    avg_time_nrpa = sum(game_times['NRPA']) / len(game_times['NRPA']) if game_times['NRPA'] else 0\n",
    "    \n",
    "    print(f\"\\nRésultats après {num_games} parties :\")\n",
    "    print(f\"MCTS a gagné {results['MCTS_win']} parties ({results['MCTS_win']/num_games*100:.1f}%)\")\n",
    "    print(f\"NRPA a gagné {results['NRPA_win']} parties ({results['NRPA_win']/num_games*100:.1f}%)\")\n",
    "    print(f\"Matchs nuls : {results['Draw']} parties ({results['Draw']/num_games*100:.1f}%)\")\n",
    "    print(f\"\\nNombre moyen de coups par partie : {avg_moves:.1f}\")\n",
    "    print(f\"Temps moyen par coup - MCTS : {avg_time_mcts:.3f} secondes\")\n",
    "    print(f\"Temps moyen par coup - NRPA : {avg_time_nrpa:.3f} secondes\")\n",
    "    plot_results(results, avg_time_mcts, avg_time_nrpa, avg_moves)\n",
    "    \n",
    "    return results, moves_count, game_times\n",
    "\n",
    "def plot_results(results, avg_time_mcts, avg_time_nrpa, avg_moves):\n",
    "    \"\"\"\n",
    "    Affiche des graphiques avec les résultats des tests.\n",
    "    \"\"\"\n",
    "    fig, (ax1, ax2) = plt.subplots(1, 2, figsize=(15, 6))\n",
    "    labels = ['MCTS', 'NRPA', 'Match nul']\n",
    "    sizes = [results['MCTS_win'], results['NRPA_win'], results['Draw']]\n",
    "    colors = ['lightblue', 'lightgreen', 'lightgray']\n",
    "    \n",
    "    ax1.pie(sizes, labels=labels, colors=colors, autopct='%1.1f%%', startangle=90)\n",
    "    ax1.axis('equal')\n",
    "    ax1.set_title('Résultats des parties')\n",
    "    \n",
    "    algorithms = ['MCTS', 'NRPA']\n",
    "    times = [avg_time_mcts, avg_time_nrpa]\n",
    "    \n",
    "    bars = ax2.bar(algorithms, times, color=['lightblue', 'lightgreen'])\n",
    "    ax2.set_title('Temps moyen par coup (secondes)')\n",
    "    ax2.set_ylabel('Secondes')\n",
    "    \n",
    "    for bar in bars:\n",
    "        height = bar.get_height()\n",
    "        ax2.annotate(f'{height:.3f}',\n",
    "                    xy=(bar.get_x() + bar.get_width() / 2, height),\n",
    "                    xytext=(0, 3),\n",
    "                    textcoords=\"offset points\",\n",
    "                    ha='center', va='bottom')\n",
    "    \n",
    "    plt.tight_layout()\n",
    "    plt.show()\n",
    "\n",
    "def compare_configs(all_results):\n",
    "    \"\"\"\n",
    "    Compare les résultats de différentes configurations.\n",
    "    \"\"\"\n",
    "    fig, (ax1, ax2) = plt.subplots(1, 2, figsize=(15, 6))\n",
    "    \n",
    "    configs = []\n",
    "    mcts_wins = []\n",
    "    nrpa_wins = []\n",
    "    draws = []\n",
    "    mcts_times = []\n",
    "    nrpa_times = []\n",
    "    \n",
    "    for result in all_results:\n",
    "        config = result['config']\n",
    "        configs.append(f\"M{config['mcts_iterations']}-N{config['nrpa_level']},{config['nrpa_iterations']}\")\n",
    "        \n",
    "        total_games = config['games']\n",
    "        mcts_wins.append(result['results']['MCTS_win'] / total_games * 100)\n",
    "        nrpa_wins.append(result['results']['NRPA_win'] / total_games * 100)\n",
    "        draws.append(result['results']['Draw'] / total_games * 100)\n",
    "        \n",
    "        mcts_times.append(sum(result['times']['MCTS']) / len(result['times']['MCTS']) if result['times']['MCTS'] else 0)\n",
    "        nrpa_times.append(sum(result['times']['NRPA']) / len(result['times']['NRPA']) if result['times']['NRPA'] else 0)\n",
    "    \n",
    "    x = np.arange(len(configs))\n",
    "    width = 0.25\n",
    "    \n",
    "    ax1.bar(x - width, mcts_wins, width, label='MCTS', color='lightblue')\n",
    "    ax1.bar(x, nrpa_wins, width, label='NRPA', color='lightgreen')\n",
    "    ax1.bar(x + width, draws, width, label='Match nul', color='lightgray')\n",
    "    \n",
    "    ax1.set_ylabel('Pourcentage (%)')\n",
    "    ax1.set_title('Taux de victoire par configuration')\n",
    "    ax1.set_xticks(x)\n",
    "    ax1.set_xticklabels(configs, rotation=45)\n",
    "    ax1.legend()\n",
    "    \n",
    "    ax2.plot(configs, mcts_times, 'o-', label='MCTS', color='blue')\n",
    "    ax2.plot(configs, nrpa_times, 'o-', label='NRPA', color='green')\n",
    "    \n",
    "    ax2.set_ylabel('Temps (secondes)')\n",
    "    ax2.set_title('Temps moyen par coup')\n",
    "    ax2.set_xticklabels(configs, rotation=45)\n",
    "    ax2.legend()\n",
    "    \n",
    "    plt.tight_layout()\n",
    "    plt.show()\n"
   ]
  },
  {
   "cell_type": "markdown",
   "metadata": {},
   "source": [
    "#### Configuration 1"
   ]
  },
  {
   "cell_type": "code",
   "execution_count": 7,
   "metadata": {},
   "outputs": [
    {
     "name": "stdout",
     "output_type": "stream",
     "text": [
      "\n",
      "Test avec MCTS:500 vs NRPA niveau:1, iter:10\n"
     ]
    },
    {
     "name": "stderr",
     "output_type": "stream",
     "text": [
      "Parties jouées:  10%|█         | 2/20 [00:03<00:27,  1.54s/it]"
     ]
    },
    {
     "name": "stdout",
     "output_type": "stream",
     "text": [
      "---------------\n",
      "| | | | | | | |\n",
      "| | | | | | | |\n",
      "| | | | | | | |\n",
      "| | |Y|Y| | | |\n",
      "| |R|R|R|R| |Y|\n",
      "| |Y|Y|R|R|R|Y|\n",
      "---------------\n",
      " 0 1 2 3 4 5 6 \n",
      "---------------\n",
      "| | | | | | | |\n",
      "| | | | | | | |\n",
      "| | | |Y| | | |\n",
      "| | | |Y| | | |\n",
      "| | | |Y| |R| |\n",
      "|R|R| |Y| |R| |\n",
      "---------------\n",
      " 0 1 2 3 4 5 6 \n"
     ]
    },
    {
     "name": "stderr",
     "output_type": "stream",
     "text": [
      "Parties jouées:  15%|█▌        | 3/20 [00:04<00:27,  1.63s/it]"
     ]
    },
    {
     "name": "stdout",
     "output_type": "stream",
     "text": [
      "---------------\n",
      "| | | | | | | |\n",
      "| | | | | | | |\n",
      "| | | | | | | |\n",
      "| | | | | | | |\n",
      "| |Y|R|R|R|R| |\n",
      "| |R|Y|R|Y|Y|Y|\n",
      "---------------\n",
      " 0 1 2 3 4 5 6 \n"
     ]
    },
    {
     "name": "stderr",
     "output_type": "stream",
     "text": [
      "Parties jouées:  20%|██        | 4/20 [00:06<00:27,  1.73s/it]"
     ]
    },
    {
     "name": "stdout",
     "output_type": "stream",
     "text": [
      "---------------\n",
      "| | | | | | | |\n",
      "| |R| | | | | |\n",
      "| |Y| | | | | |\n",
      "| |Y|Y| | | | |\n",
      "| |R|R|Y| | | |\n",
      "| |R|Y|R|Y|R| |\n",
      "---------------\n",
      " 0 1 2 3 4 5 6 \n",
      "---------------\n",
      "| | | | | | | |\n",
      "| | | | | | | |\n",
      "| | | |Y| | |R|\n",
      "| | | |R|R|R|R|\n",
      "| | | |R|Y|Y|Y|\n",
      "|Y|Y|R|R|Y|R|Y|\n",
      "---------------\n",
      " 0 1 2 3 4 5 6 \n"
     ]
    },
    {
     "name": "stderr",
     "output_type": "stream",
     "text": [
      "Parties jouées:  30%|███       | 6/20 [00:11<00:28,  2.04s/it]"
     ]
    },
    {
     "name": "stdout",
     "output_type": "stream",
     "text": [
      "---------------\n",
      "| | | | | | | |\n",
      "| | | | |Y| | |\n",
      "| | |R| |Y| | |\n",
      "| | |R|Y|Y| | |\n",
      "| | |Y|R|Y| | |\n",
      "| |R|R|Y|R|R| |\n",
      "---------------\n",
      " 0 1 2 3 4 5 6 \n",
      "---------------\n",
      "| | | | | | | |\n",
      "| | | | | | | |\n",
      "| | | | | | | |\n",
      "| | | | | | | |\n",
      "| | |Y|Y| | | |\n",
      "| | |Y|R|R|R|R|\n",
      "---------------\n",
      " 0 1 2 3 4 5 6 \n"
     ]
    },
    {
     "name": "stderr",
     "output_type": "stream",
     "text": [
      "Parties jouées:  40%|████      | 8/20 [00:13<00:18,  1.56s/it]"
     ]
    },
    {
     "name": "stdout",
     "output_type": "stream",
     "text": [
      "---------------\n",
      "| | | | | | | |\n",
      "| | | | | | | |\n",
      "| | | | | | | |\n",
      "| | | | | | | |\n",
      "| | | |R| | | |\n",
      "|R|Y|Y|Y|Y|R|R|\n",
      "---------------\n",
      " 0 1 2 3 4 5 6 \n",
      "---------------\n",
      "| | | | | | | |\n",
      "| | | | | | | |\n",
      "| | | | | | | |\n",
      "| | | | | | | |\n",
      "| | | |Y| | | |\n",
      "|Y| |Y|R|R|R|R|\n",
      "---------------\n",
      " 0 1 2 3 4 5 6 \n"
     ]
    },
    {
     "name": "stderr",
     "output_type": "stream",
     "text": [
      "Parties jouées:  55%|█████▌    | 11/20 [00:20<00:19,  2.16s/it]"
     ]
    },
    {
     "name": "stdout",
     "output_type": "stream",
     "text": [
      "---------------\n",
      "| | | | | | | |\n",
      "| | | | | | | |\n",
      "| | | |R| | | |\n",
      "| |R|Y|Y| | | |\n",
      "| |Y|Y|Y|Y| | |\n",
      "| |R|R|Y|R|R|R|\n",
      "---------------\n",
      " 0 1 2 3 4 5 6 \n",
      "---------------\n",
      "| | | |Y| | | |\n",
      "| | |Y|R| |R| |\n",
      "| | |R|R| |R| |\n",
      "|Y| |Y|R| |R| |\n",
      "|Y|Y|R|Y| |R| |\n",
      "|R|Y|Y|R| |Y| |\n",
      "---------------\n",
      " 0 1 2 3 4 5 6 \n"
     ]
    },
    {
     "name": "stderr",
     "output_type": "stream",
     "text": [
      "Parties jouées:  60%|██████    | 12/20 [00:21<00:15,  1.89s/it]"
     ]
    },
    {
     "name": "stdout",
     "output_type": "stream",
     "text": [
      "---------------\n",
      "| | | | | | | |\n",
      "| | | | | | | |\n",
      "| | | |Y| | | |\n",
      "| | | |Y| | | |\n",
      "| | |R|Y| | | |\n",
      "| | |R|Y|R|R| |\n",
      "---------------\n",
      " 0 1 2 3 4 5 6 \n",
      "---------------\n",
      "| | | | | | | |\n",
      "| | | | | | | |\n",
      "| | | |R| | | |\n",
      "| | | |R| | | |\n",
      "| | | |R| | | |\n",
      "|Y|Y| |R| | |Y|\n",
      "---------------\n",
      " 0 1 2 3 4 5 6 \n"
     ]
    },
    {
     "name": "stderr",
     "output_type": "stream",
     "text": [
      "Parties jouées:  70%|███████   | 14/20 [00:24<00:09,  1.62s/it]"
     ]
    },
    {
     "name": "stdout",
     "output_type": "stream",
     "text": [
      "---------------\n",
      "| | | | | | | |\n",
      "| | | | | | | |\n",
      "| | | |Y| | | |\n",
      "| | |R|Y| | | |\n",
      "|R| |Y|Y| | | |\n",
      "|R| |R|Y|R| | |\n",
      "---------------\n",
      " 0 1 2 3 4 5 6 \n"
     ]
    },
    {
     "name": "stderr",
     "output_type": "stream",
     "text": [
      "Parties jouées:  80%|████████  | 16/20 [00:27<00:06,  1.69s/it]"
     ]
    },
    {
     "name": "stdout",
     "output_type": "stream",
     "text": [
      "---------------\n",
      "| | | | | | | |\n",
      "| | | | | | | |\n",
      "| | | | | | | |\n",
      "| | | |Y| | | |\n",
      "| | | |Y| | | |\n",
      "| |R|R|R|R| |Y|\n",
      "---------------\n",
      " 0 1 2 3 4 5 6 \n",
      "---------------\n",
      "| | | | | | | |\n",
      "| | | | |Y| | |\n",
      "| | |Y|Y|R| | |\n",
      "| | |R|R|R| | |\n",
      "| | |Y|Y|Y|Y| |\n",
      "| | |R|Y|R|R|R|\n",
      "---------------\n",
      " 0 1 2 3 4 5 6 \n"
     ]
    },
    {
     "name": "stderr",
     "output_type": "stream",
     "text": [
      "Parties jouées:  85%|████████▌ | 17/20 [00:29<00:05,  1.84s/it]"
     ]
    },
    {
     "name": "stdout",
     "output_type": "stream",
     "text": [
      "---------------\n",
      "| |Y| | | | | |\n",
      "| |Y|R| | | | |\n",
      "| |R|R| | | | |\n",
      "| |Y|R|Y| | | |\n",
      "| |R|R|R| | |R|\n",
      "| |Y|Y|R|Y| |Y|\n",
      "---------------\n",
      " 0 1 2 3 4 5 6 \n"
     ]
    },
    {
     "name": "stderr",
     "output_type": "stream",
     "text": [
      "Parties jouées:  95%|█████████▌| 19/20 [00:33<00:01,  1.76s/it]"
     ]
    },
    {
     "name": "stdout",
     "output_type": "stream",
     "text": [
      "---------------\n",
      "| | | | | | | |\n",
      "| | | | | | | |\n",
      "| | | |Y| | | |\n",
      "| | | |Y| | | |\n",
      "|R| |Y|Y| |Y|R|\n",
      "|R| |R|Y| |R|R|\n",
      "---------------\n",
      " 0 1 2 3 4 5 6 \n",
      "---------------\n",
      "| | | | | | | |\n",
      "| | |R| | | | |\n",
      "| | |R| | | | |\n",
      "| | |R| | | | |\n",
      "| | |R| | | | |\n",
      "|Y|Y|Y|R| | |Y|\n",
      "---------------\n",
      " 0 1 2 3 4 5 6 \n"
     ]
    },
    {
     "name": "stderr",
     "output_type": "stream",
     "text": [
      "Parties jouées: 100%|██████████| 20/20 [00:35<00:00,  1.76s/it]"
     ]
    },
    {
     "name": "stdout",
     "output_type": "stream",
     "text": [
      "---------------\n",
      "| | | | | | | |\n",
      "| | | | | | | |\n",
      "| | |R| |Y| | |\n",
      "| | |Y|R|Y| | |\n",
      "|R| |R|Y|Y| | |\n",
      "|R|Y|R|R|Y| | |\n",
      "---------------\n",
      " 0 1 2 3 4 5 6 \n",
      "\n",
      "Résultats après 20 parties :\n",
      "MCTS a gagné 20 parties (100.0%)\n",
      "NRPA a gagné 0 parties (0.0%)\n",
      "Matchs nuls : 0 parties (0.0%)\n",
      "\n",
      "Nombre moyen de coups par partie : 11.6\n",
      "Temps moyen par coup - MCTS : 0.269 secondes\n",
      "Temps moyen par coup - NRPA : 0.024 secondes\n"
     ]
    },
    {
     "name": "stderr",
     "output_type": "stream",
     "text": [
      "\n"
     ]
    },
    {
     "data": {
      "image/png": "[encoded data removed]",
      "text/plain": [
       "<Figure size 1500x600 with 2 Axes>"
      ]
     },
     "metadata": {},
     "output_type": "display_data"
    }
   ],
   "source": [
    "if __name__ == \"__main__\":\n",
    "    config = {\"mcts_iterations\": 500, \"nrpa_level\": 1, \"nrpa_iterations\": 10, \"games\": 20}\n",
    "    \n",
    "    print(f\"\\nTest avec MCTS:{config['mcts_iterations']} vs NRPA niveau:{config['nrpa_level']}, iter:{config['nrpa_iterations']}\")\n",
    "    results1, moves1, times1 = test_algorithms(\n",
    "        num_games=config['games'],\n",
    "        mcts_iterations=config['mcts_iterations'],\n",
    "        nrpa_level=config['nrpa_level'],\n",
    "        nrpa_iterations=config['nrpa_iterations']\n",
    "    )\n",
    "    \n",
    "    result1 = {\n",
    "        'config': config,\n",
    "        'results': results1,\n",
    "        'moves': moves1,\n",
    "        'times': times1\n",
    "    }"
   ]
  },
  {
   "cell_type": "markdown",
   "metadata": {},
   "source": [
    "#### Configuration 2"
   ]
  },
  {
   "cell_type": "code",
   "execution_count": 8,
   "metadata": {},
   "outputs": [
    {
     "name": "stdout",
     "output_type": "stream",
     "text": [
      "\n",
      "Test avec MCTS:1000 vs NRPA niveau:2, iter:20\n"
     ]
    },
    {
     "name": "stderr",
     "output_type": "stream",
     "text": [
      "Parties jouées:   5%|▌         | 1/20 [01:09<21:53, 69.12s/it]"
     ]
    },
    {
     "name": "stdout",
     "output_type": "stream",
     "text": [
      "---------------\n",
      "| | | | | | | |\n",
      "| |R| | | | | |\n",
      "| |R| | | | | |\n",
      "| |R| | | | | |\n",
      "| |R| | |Y| | |\n",
      "| |Y|R| |Y|Y| |\n",
      "---------------\n",
      " 0 1 2 3 4 5 6 \n"
     ]
    },
    {
     "name": "stderr",
     "output_type": "stream",
     "text": [
      "Parties jouées:  10%|█         | 2/20 [05:11<51:16, 170.94s/it]"
     ]
    },
    {
     "name": "stdout",
     "output_type": "stream",
     "text": [
      "---------------\n",
      "| |Y| | | | | |\n",
      "| |Y| |R| | | |\n",
      "| |Y| |Y| |R| |\n",
      "| |Y| |R| |Y| |\n",
      "| |R| |Y| |R| |\n",
      "| |R| |Y|R|R| |\n",
      "---------------\n",
      " 0 1 2 3 4 5 6 \n"
     ]
    },
    {
     "name": "stderr",
     "output_type": "stream",
     "text": [
      "Parties jouées:  15%|█▌        | 3/20 [05:49<31:13, 110.22s/it]"
     ]
    },
    {
     "name": "stdout",
     "output_type": "stream",
     "text": [
      "---------------\n",
      "| | | | | | | |\n",
      "| | | | | | | |\n",
      "| | | | | | | |\n",
      "| | | | | | | |\n",
      "| | |Y| | | | |\n",
      "|R|R|R|R|Y| |Y|\n",
      "---------------\n",
      " 0 1 2 3 4 5 6 \n"
     ]
    },
    {
     "name": "stderr",
     "output_type": "stream",
     "text": [
      "Parties jouées:  20%|██        | 4/20 [06:55<24:45, 92.82s/it] "
     ]
    },
    {
     "name": "stdout",
     "output_type": "stream",
     "text": [
      "---------------\n",
      "| | | | | | | |\n",
      "| | | | | | | |\n",
      "| | | |Y| | | |\n",
      "| | | |Y| | | |\n",
      "| |R| |Y| | | |\n",
      "| |R| |Y|R| |R|\n",
      "---------------\n",
      " 0 1 2 3 4 5 6 \n"
     ]
    },
    {
     "name": "stderr",
     "output_type": "stream",
     "text": [
      "Parties jouées:  25%|██▌       | 5/20 [09:38<29:33, 118.26s/it]"
     ]
    },
    {
     "name": "stdout",
     "output_type": "stream",
     "text": [
      "---------------\n",
      "| | | | | | | |\n",
      "| | | |Y| | | |\n",
      "| | | |Y| | | |\n",
      "| | | |R| |R| |\n",
      "| | |Y|R| |Y|Y|\n",
      "|Y|R|R|R|R|Y|R|\n",
      "---------------\n",
      " 0 1 2 3 4 5 6 \n"
     ]
    },
    {
     "name": "stderr",
     "output_type": "stream",
     "text": [
      "Parties jouées:  30%|███       | 6/20 [25:02<1:31:28, 392.00s/it]"
     ]
    },
    {
     "name": "stdout",
     "output_type": "stream",
     "text": [
      "---------------\n",
      "| | |R|Y| | | |\n",
      "| | |Y|Y| | | |\n",
      "| | |R|R| | | |\n",
      "| | |Y|Y|R| | |\n",
      "| | |R|Y|Y|R|Y|\n",
      "|R|R|R|Y|R|Y|R|\n",
      "---------------\n",
      " 0 1 2 3 4 5 6 \n"
     ]
    },
    {
     "name": "stderr",
     "output_type": "stream",
     "text": [
      "Parties jouées:  35%|███▌      | 7/20 [26:36<1:03:50, 294.68s/it]"
     ]
    },
    {
     "name": "stdout",
     "output_type": "stream",
     "text": [
      "---------------\n",
      "| | | | | | | |\n",
      "| | | | | | | |\n",
      "| | |Y| | | | |\n",
      "| | |Y|Y| | | |\n",
      "| |R|R|R|R| | |\n",
      "| |R|Y|R|Y| | |\n",
      "---------------\n",
      " 0 1 2 3 4 5 6 \n"
     ]
    },
    {
     "name": "stderr",
     "output_type": "stream",
     "text": [
      "Parties jouées:  40%|████      | 8/20 [28:18<46:38, 233.21s/it]  "
     ]
    },
    {
     "name": "stdout",
     "output_type": "stream",
     "text": [
      "---------------\n",
      "| | | | | | | |\n",
      "| | | |Y| | | |\n",
      "| | | |Y| | | |\n",
      "| | | |Y| | | |\n",
      "| | | |Y| | |R|\n",
      "| | |R|R|Y|R|R|\n",
      "---------------\n",
      " 0 1 2 3 4 5 6 \n"
     ]
    },
    {
     "name": "stderr",
     "output_type": "stream",
     "text": [
      "Parties jouées:  45%|████▌     | 9/20 [28:58<31:42, 172.98s/it]"
     ]
    },
    {
     "name": "stdout",
     "output_type": "stream",
     "text": [
      "---------------\n",
      "| | | | | | | |\n",
      "| | | | | | | |\n",
      "| | | | | | | |\n",
      "| | | | | | | |\n",
      "| | | | | |Y| |\n",
      "| |Y|Y|R|R|R|R|\n",
      "---------------\n",
      " 0 1 2 3 4 5 6 \n"
     ]
    },
    {
     "name": "stderr",
     "output_type": "stream",
     "text": [
      "Parties jouées:  50%|█████     | 10/20 [42:35<1:01:59, 371.90s/it]"
     ]
    },
    {
     "name": "stdout",
     "output_type": "stream",
     "text": [
      "---------------\n",
      "| | | | | | | |\n",
      "| | | | | | | |\n",
      "| | | |Y| | | |\n",
      "| | | |Y| | | |\n",
      "| | | |Y| | | |\n",
      "|R| |R|Y|R| |R|\n",
      "---------------\n",
      " 0 1 2 3 4 5 6 \n"
     ]
    },
    {
     "name": "stderr",
     "output_type": "stream",
     "text": [
      "Parties jouées:  55%|█████▌    | 11/20 [43:14<40:28, 269.83s/it]  "
     ]
    },
    {
     "name": "stdout",
     "output_type": "stream",
     "text": [
      "---------------\n",
      "| | | | | | | |\n",
      "| | | | | | | |\n",
      "| | | |R| | | |\n",
      "| | | |R| | | |\n",
      "| |Y| |R| | | |\n",
      "| |Y| |R| | |Y|\n",
      "---------------\n",
      " 0 1 2 3 4 5 6 \n"
     ]
    },
    {
     "name": "stderr",
     "output_type": "stream",
     "text": [
      "Parties jouées:  60%|██████    | 12/20 [44:49<28:52, 216.58s/it]"
     ]
    },
    {
     "name": "stdout",
     "output_type": "stream",
     "text": [
      "---------------\n",
      "| | | | | | | |\n",
      "| | | | | | | |\n",
      "| | | | |Y| | |\n",
      "| | | |Y|R| | |\n",
      "| | |Y|R|R| | |\n",
      "| |Y|R|R|Y| | |\n",
      "---------------\n",
      " 0 1 2 3 4 5 6 \n"
     ]
    },
    {
     "name": "stderr",
     "output_type": "stream",
     "text": [
      "Parties jouées:  65%|██████▌   | 13/20 [46:59<22:14, 190.58s/it]"
     ]
    },
    {
     "name": "stdout",
     "output_type": "stream",
     "text": [
      "---------------\n",
      "| | | | | | | |\n",
      "| | | | | | | |\n",
      "| | | |R| | | |\n",
      "| | | |Y|Y| | |\n",
      "| | | |Y|R| |Y|\n",
      "|R|R|R|R|Y|Y|R|\n",
      "---------------\n",
      " 0 1 2 3 4 5 6 \n"
     ]
    },
    {
     "name": "stderr",
     "output_type": "stream",
     "text": [
      "Parties jouées:  70%|███████   | 14/20 [48:07<15:19, 153.33s/it]"
     ]
    },
    {
     "name": "stdout",
     "output_type": "stream",
     "text": [
      "---------------\n",
      "| | | | | | | |\n",
      "| | | | | | | |\n",
      "| | | | | | | |\n",
      "| | | | | | | |\n",
      "|R| | | | | | |\n",
      "|R|Y|Y|Y|Y|R|R|\n",
      "---------------\n",
      " 0 1 2 3 4 5 6 \n"
     ]
    },
    {
     "name": "stderr",
     "output_type": "stream",
     "text": [
      "Parties jouées:  75%|███████▌  | 15/20 [48:45<09:53, 118.65s/it]"
     ]
    },
    {
     "name": "stdout",
     "output_type": "stream",
     "text": [
      "---------------\n",
      "| | | | | | | |\n",
      "| | | | | | | |\n",
      "| | | |R| | | |\n",
      "| | | |R| | | |\n",
      "| | | |R| | | |\n",
      "| | |Y|R| |Y|Y|\n",
      "---------------\n",
      " 0 1 2 3 4 5 6 \n"
     ]
    },
    {
     "name": "stderr",
     "output_type": "stream",
     "text": [
      "Parties jouées:  80%|████████  | 16/20 [55:15<13:21, 200.38s/it]"
     ]
    },
    {
     "name": "stdout",
     "output_type": "stream",
     "text": [
      "---------------\n",
      "| | | | | | | |\n",
      "| | | |R| | | |\n",
      "| | | |R| |Y| |\n",
      "| |R| |Y|Y|R| |\n",
      "|Y|Y| |Y|R|Y| |\n",
      "|R|R|Y|Y|R|R| |\n",
      "---------------\n",
      " 0 1 2 3 4 5 6 \n"
     ]
    },
    {
     "name": "stderr",
     "output_type": "stream",
     "text": [
      "Parties jouées:  85%|████████▌ | 17/20 [59:47<11:05, 221.94s/it]"
     ]
    },
    {
     "name": "stdout",
     "output_type": "stream",
     "text": [
      "---------------\n",
      "| | | | | | | |\n",
      "| | | | |R| | |\n",
      "| | | |Y|R| | |\n",
      "| |Y|R|R|R|R| |\n",
      "| |R|Y|R|Y|R| |\n",
      "|Y|Y|Y|R|Y|Y| |\n",
      "---------------\n",
      " 0 1 2 3 4 5 6 \n"
     ]
    },
    {
     "name": "stderr",
     "output_type": "stream",
     "text": [
      "Parties jouées:  90%|█████████ | 18/20 [1:00:56<05:51, 175.90s/it]"
     ]
    },
    {
     "name": "stdout",
     "output_type": "stream",
     "text": [
      "---------------\n",
      "| | | | | | | |\n",
      "| | | | | | | |\n",
      "| | | |Y| | | |\n",
      "| | | |Y| | | |\n",
      "| | | |Y| |R| |\n",
      "| |R| |Y|R|R| |\n",
      "---------------\n",
      " 0 1 2 3 4 5 6 \n"
     ]
    },
    {
     "name": "stderr",
     "output_type": "stream",
     "text": [
      "Parties jouées:  95%|█████████▌| 19/20 [1:01:33<02:14, 134.27s/it]"
     ]
    },
    {
     "name": "stdout",
     "output_type": "stream",
     "text": [
      "---------------\n",
      "| | | | | | | |\n",
      "| | | | | | | |\n",
      "| | | | | | | |\n",
      "| | | | | | | |\n",
      "| | | | |Y| | |\n",
      "| |Y|R|R|R|R|Y|\n",
      "---------------\n",
      " 0 1 2 3 4 5 6 \n"
     ]
    },
    {
     "name": "stderr",
     "output_type": "stream",
     "text": [
      "Parties jouées: 100%|██████████| 20/20 [1:02:43<00:00, 188.15s/it]"
     ]
    },
    {
     "name": "stdout",
     "output_type": "stream",
     "text": [
      "---------------\n",
      "| | | | | | | |\n",
      "| | | | | | | |\n",
      "| | | |Y| | | |\n",
      "| | | |Y| | | |\n",
      "| | |R|Y| |R| |\n",
      "| | |R|Y| |R| |\n",
      "---------------\n",
      " 0 1 2 3 4 5 6 \n",
      "\n",
      "Résultats après 20 parties :\n",
      "MCTS a gagné 19 parties (95.0%)\n",
      "NRPA a gagné 1 parties (5.0%)\n",
      "Matchs nuls : 0 parties (0.0%)\n",
      "\n",
      "Nombre moyen de coups par partie : 10.8\n",
      "Temps moyen par coup - MCTS : 0.550 secondes\n",
      "Temps moyen par coup - NRPA : 35.585 secondes\n"
     ]
    },
    {
     "name": "stderr",
     "output_type": "stream",
     "text": [
      "\n"
     ]
    },
    {
     "data": {
      "image/png": "[encoded data removed]",
      "text/plain": [
       "<Figure size 1500x600 with 2 Axes>"
      ]
     },
     "metadata": {},
     "output_type": "display_data"
    }
   ],
   "source": [
    "if __name__ == \"__main__\":\n",
    "    config = {\"mcts_iterations\": 1000, \"nrpa_level\": 2, \"nrpa_iterations\": 20, \"games\": 20}\n",
    "    \n",
    "    print(f\"\\nTest avec MCTS:{config['mcts_iterations']} vs NRPA niveau:{config['nrpa_level']}, iter:{config['nrpa_iterations']}\")\n",
    "    results2, moves2, times2 = test_algorithms(\n",
    "        num_games=config['games'],\n",
    "        mcts_iterations=config['mcts_iterations'],\n",
    "        nrpa_level=config['nrpa_level'],\n",
    "        nrpa_iterations=config['nrpa_iterations']\n",
    "    )\n",
    "    \n",
    "    result2 = {\n",
    "        'config': config,\n",
    "        'results': results2,\n",
    "        'moves': moves2,\n",
    "        'times': times2\n",
    "    }\n"
   ]
  },
  {
   "cell_type": "markdown",
   "metadata": {},
   "source": [
    "### Comparaison"
   ]
  },
  {
   "cell_type": "code",
   "execution_count": null,
   "metadata": {},
   "outputs": [
    {
     "name": "stderr",
     "output_type": "stream",
     "text": [
      "/var/folders/gr/37ts_6nn34qbcw22dqxnvqx80000gn/T/ipykernel_1830/3615066601.py:139: UserWarning: FixedFormatter should only be used together with FixedLocator\n",
      "  ax2.set_xticklabels(configs, rotation=45)\n"
     ]
    },
    {
     "data": {
      "image/png": "[encoded data removed]",
      "text/plain": [
       "<Figure size 1500x600 with 2 Axes>"
      ]
     },
     "metadata": {},
     "output_type": "display_data"
    }
   ],
   "source": [
    "if __name__ == \"__main__\":\n",
    "    all_results = [result1, result2]\n",
    "    compare_configs(all_results)"
   ]
  }
 ],
 "metadata": {
  "kernelspec": {
   "display_name": "Python 3",
   "language": "python",
   "name": "python3"
  },
  "language_info": {
   "codemirror_mode": {
    "name": "ipython",
    "version": 3
   },
   "file_extension": ".py",
   "mimetype": "text/x-python",
   "name": "python",
   "nbconvert_exporter": "python",
   "pygments_lexer": "ipython3",
   "version": "3.10.8"
  }
 },
 "nbformat": 4,
 "nbformat_minor": 2
}
